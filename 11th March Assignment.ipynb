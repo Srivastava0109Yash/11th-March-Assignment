{
 "cells": [
  {
   "cell_type": "markdown",
   "id": "76ae63d1",
   "metadata": {},
   "source": [
    "### Q1: What is the difference between a t-test and a z-test? Provide an example scenario where you would use each type of test."
   ]
  },
  {
   "cell_type": "markdown",
   "id": "af241b93",
   "metadata": {},
   "source": [
    "__t-test__ is used when the population variance is unknown, or when the sample size is small (usually less than 30). It uses a t-distribution to calculate the probability of observing the sample mean given the null hypothesis. A t-test can be one-sample, two-sample, or paired, depending on the research question."
   ]
  },
  {
   "cell_type": "markdown",
   "id": "26b4b7ed",
   "metadata": {},
   "source": [
    "- Example scenario where a t-test would be used:\n",
    "\n",
    "Suppose you want to test whether a new teaching method has an effect on the test scores of a group of students. You randomly select 20 students from the population and divide them into two groups: one group is taught using the new method, and the other group is taught using the traditional method."
   ]
  },
  {
   "cell_type": "markdown",
   "id": "b1d2fd19",
   "metadata": {},
   "source": [
    " __z-test__, on the other hand, is used when the population variance is known, or when the sample size is large (usually more than 30). It uses a standard normal distribution to calculate the probability of observing the sample mean given the null hypothesis. A z-test can be one-sample or two-sample, depending on the research question.\n",
    " \n",
    "- Example scenario where a z-test would be used:\n",
    "\n",
    "Suppose you want to test whether the average height of adult males in a population is significantly different from a known average height of 5'10\". You randomly select a large sample of 100 adult males from the population and measure their heights. "
   ]
  },
  {
   "cell_type": "code",
   "execution_count": null,
   "id": "78850ca9",
   "metadata": {},
   "outputs": [],
   "source": []
  },
  {
   "cell_type": "markdown",
   "id": "200ebfac",
   "metadata": {},
   "source": [
    "### Q2: Differentiate between one-tailed and two-tailed tests."
   ]
  },
  {
   "cell_type": "markdown",
   "id": "e3d75328",
   "metadata": {},
   "source": [
    "**In a one-tailed test**, the alternative hypothesis is directional and specifies whether the population parameter is greater than or less than the hypothesized value. \n",
    "\n",
    "**In a two-tailed test**, the alternative hypothesis is non-directional and simply states that the population parameter is different from the hypothesized value. The choice between a one-tailed and a two-tailed test depends on the direction of the effect of interest in the research question."
   ]
  },
  {
   "cell_type": "markdown",
   "id": "54c5ef7e",
   "metadata": {},
   "source": [
    "The choice between a one-tailed and a two-tailed test depends on the research question and the direction of the effect that is of interest. A one-tailed test is more powerful (i.e., has a higher chance of rejecting the null hypothesis) when the direction of the effect is known in advance, while a two-tailed test is more appropriate when the direction of the effect is uncertain or irrelevant."
   ]
  },
  {
   "cell_type": "code",
   "execution_count": null,
   "id": "1152460c",
   "metadata": {},
   "outputs": [],
   "source": []
  },
  {
   "cell_type": "markdown",
   "id": "7dd54c9f",
   "metadata": {},
   "source": [
    "### Q3: Explain the concept of Type 1 and Type 2 errors in hypothesis testing. Provide an example scenario for each type of error."
   ]
  },
  {
   "cell_type": "markdown",
   "id": "2330f3e9",
   "metadata": {},
   "source": [
    "__Type 1 error__ occurs when the null hypothesis is rejected even though it is actually true. This means that the researcher concludes that there is a significant effect when there is no real effect in the population. The probability of making a Type 1 error is denoted by alpha (α) and is usually set at 0.05 or 0.01.\n",
    "\n",
    "Example scenario for Type 1 error:\n",
    "\n",
    "Suppose a medical researcher is testing a new drug for reducing blood pressure. The null hypothesis is that the new drug does not have an effect on blood pressure. A Type 1 error occurs if the researcher concludes that the new drug has a significant effect on blood pressure when, in fact, it does not. This could lead to the drug being marketed and prescribed when it is actually ineffective.\n",
    "\n",
    "__Type 2 error__ occurs when the null hypothesis is not rejected even though it is actually false. This means that the researcher fails to detect a real effect in the population. The probability of making a Type 2 error is denoted by beta (β).\n",
    "\n",
    "Example scenario for Type 2 error:\n",
    "\n",
    "Suppose a medical researcher is testing a new drug for reducing blood pressure. The null hypothesis is that the new drug does not have an effect on blood pressure. A Type 2 error occurs if the researcher fails to detect a significant effect on blood pressure when, in fact, the drug is effective. This could lead to the drug being abandoned or not prescribed, even though it has a real effect."
   ]
  },
  {
   "cell_type": "code",
   "execution_count": null,
   "id": "3b7ace74",
   "metadata": {},
   "outputs": [],
   "source": []
  },
  {
   "cell_type": "markdown",
   "id": "65d7f94f",
   "metadata": {},
   "source": [
    "### Q4: Explain Bayes's theorem with an example."
   ]
  },
  {
   "cell_type": "markdown",
   "id": "2e26ea9d",
   "metadata": {},
   "source": [
    "Bayes's theorem is a mathematical formula used to calculate the probability of an event based on prior knowledge of conditions that might be related to the event. It is named after Reverend Thomas Bayes, an 18th-century English statistician.\n",
    "\n",
    "The formula for Bayes's theorem is as follows:\n",
    "\n",
    "P(A|B) = P(B|A) * P(A) / P(B)\n",
    "\n",
    "Where:\n",
    "\n",
    "- P(A|B) is the conditional probability of event A given that event B has occurred.\n",
    "- P(B|A) is the conditional probability of event B given that event A has occurred.\n",
    "- P(A) is the prior probability of event A.\n",
    "- P(B) is the prior probability of event B.\n",
    "\n",
    "In other words, Bayes's theorem allows us to update our prior beliefs about the probability of an event, based on new information or evidence."
   ]
  },
  {
   "cell_type": "markdown",
   "id": "12a39e38",
   "metadata": {},
   "source": [
    "__Example:__\n",
    "\n",
    "- P(A) = 0.6 \n",
    "- P(B|A) = 0.8 \n",
    "- P(B|not A) = 0.9 \n",
    "- P(not A) = 0.4\n",
    "\n",
    "Using the formula for Bayes's theorem, we can calculate:\n",
    "\n",
    "P(A|B) = P(B|A) * P(A) / [P(B|A) * P(A) + P(B|not A) * P(not A)]\n",
    "\n",
    "= 0.8 * 0.6 / [0.8 * 0.6 + 0.9 * 0.4]\n",
    "\n",
    "= 0.545"
   ]
  },
  {
   "cell_type": "code",
   "execution_count": null,
   "id": "3283ceed",
   "metadata": {},
   "outputs": [],
   "source": []
  },
  {
   "cell_type": "markdown",
   "id": "2185466e",
   "metadata": {},
   "source": [
    "### Q5: What is a confidence interval? How to calculate the confidence interval, explain with an example."
   ]
  },
  {
   "cell_type": "markdown",
   "id": "a3abdd35",
   "metadata": {},
   "source": [
    "A confidence interval is a statistical measure that provides a range of plausible values for an unknown population parameter. It reflects the degree of uncertainty associated with an estimate and is typically expressed as an interval of values with a specified level of confidence. To calculate a confidence interval, we need to know the sample statistic, the standard error, and the level of confidence desired. The formula for a confidence interval depends on the type of statistic being estimated and the distribution of the population."
   ]
  },
  {
   "cell_type": "markdown",
   "id": "5a727d5d",
   "metadata": {},
   "source": [
    "CI = X̄ ± z*(σ/√n)\n",
    "\n",
    "Where:\n",
    "\n",
    "- X̄ is the sample mean\n",
    "- z is the z-score corresponding to the desired level of confidence (e.g., 1.96 for a 95% confidence interval)\n",
    "- σ is the population standard deviation\n",
    "- n is the sample size"
   ]
  },
  {
   "cell_type": "markdown",
   "id": "e40cdde2",
   "metadata": {},
   "source": [
    "- Example scenario:\n",
    "\n",
    "Suppose we want to estimate the average height of male adults in a population based on a sample of 100 individuals. We know from prior research that the population standard deviation of height is 2.5 inches. We find that the sample mean height is 70 inches. We want to calculate a 95% confidence interval for the true population mean height.\n",
    "\n",
    "Using the formula above, we can calculate the margin of error (ME) and the confidence interval (CI) as follows:\n",
    "\n",
    "z = 1.96 (for a 95% confidence interval)\n",
    "ME = z*(σ/√n) = 1.96*(2.5/√100) = 0.49\n",
    "CI = X̄ ± ME = 70 ± 0.49 = (69.51, 70.49)\n",
    "Therefore, we can be 95% confident that the true population mean height of male adults is between 69.51 inches and 70.49 inches."
   ]
  },
  {
   "cell_type": "code",
   "execution_count": null,
   "id": "a5ab65e9",
   "metadata": {},
   "outputs": [],
   "source": []
  },
  {
   "cell_type": "markdown",
   "id": "9e3cdf2d",
   "metadata": {},
   "source": [
    "### Q6. Use Bayes' Theorem to calculate the probability of an event occurring given prior knowledge of the event's probability and new evidence. Provide a sample problem and solution."
   ]
  },
  {
   "cell_type": "markdown",
   "id": "fc6bb3c7",
   "metadata": {},
   "source": [
    "Suppose a certain disease affects 1 in 1000 people in a population. A diagnostic test for the disease has a false positive rate of 5% (meaning it will incorrectly identify 5% of healthy individuals as having the disease) and a false negative rate of 1% (meaning it will incorrectly identify 1% of individuals with the disease as not having it). If an individual tests positive for the disease, what is the probability that they actually have the disease?\n",
    "\n",
    "Solution:\n",
    "\n",
    "Let's define the following events:\n",
    "\n",
    "- A: The individual has the disease\n",
    "- B: The individual tests positive for the disease\n",
    "\n",
    "We are given:\n",
    "\n",
    "- P(A) = 1/1000 = 0.001 (prior probability of having the disease)\n",
    "- P(B|A') = 0.05 (false positive rate, given that the individual does not have the disease)\n",
    "- P(B|A) = 0.99 (true positive rate, given that the individual has the disease)\n",
    "\n",
    "We want to calculate:\n",
    "\n",
    "- P(A|B) = probability of having the disease, given that the individual tests positive\n",
    "\n",
    "We can use Bayes' Theorem to calculate this probability:\n",
    "\n",
    "- P(A|B) = P(B|A) * P(A) / P(B)\n",
    "\n",
    "where P(B) is the probability of testing positive for the disease, regardless of whether the individual actually has the disease or not. We can calculate this probability using the law of total probability:\n",
    "\n",
    "- P(B) = P(B|A) * P(A) + P(B|A') * P(A')\n",
    "\n",
    "where P(A') is the probability of not having the disease (i.e., 1 - P(A)):\n",
    "\n",
    "- P(B) = 0.99 * 0.001 + 0.05 * 0.999 = 0.05094\n",
    "\n",
    "Now we can substitute the values into Bayes' Theorem:\n",
    "\n",
    "- P(A|B) = P(B|A) * P(A) / P(B) = 0.99 * 0.001 / 0.05094 ≈ 0.019\n",
    "\n",
    "Therefore, the probability of an individual actually having the disease given that they tested positive is approximately 0.019, or about 1.9%."
   ]
  },
  {
   "cell_type": "code",
   "execution_count": null,
   "id": "70bccf8b",
   "metadata": {},
   "outputs": [],
   "source": []
  },
  {
   "cell_type": "markdown",
   "id": "40d01ae2",
   "metadata": {},
   "source": [
    "### Q7. Calculate the 95% confidence interval for a sample of data with a mean of 50 and a standard deviation of 5. Interpret the results."
   ]
  },
  {
   "cell_type": "markdown",
   "id": "5124036a",
   "metadata": {},
   "source": [
    "sample mean=50,  standard_deviation=5, sample size=n(unknown)\n",
    "\n",
    "standard_error = standard_deviation / sqrt(sample_size)\n",
    "\n",
    "To calculate the sample size, we need additional information or assumptions about the data. Let's assume a sample size of 100 for this example.\n",
    "\n",
    "standard error = 5 / sqrt(100) = 0.5\n",
    "\n",
    "95% confidence interval = sample mean ± (1.96 x standard error)\n",
    "\n",
    "95% confidence interval = 50 ± (1.96 x 0.5) = [49.01, 50.99]"
   ]
  },
  {
   "cell_type": "markdown",
   "id": "9e2ce8d4",
   "metadata": {},
   "source": [
    "Interpretation:\n",
    "We are 95% confident that the true population mean falls within the range of [49.01, 50.99]. This means that if we were to repeat the sampling process many times and calculate the confidence interval each time, about 95% of the intervals would contain the true population mean, while about 5% would not. It also means that there is a 2.5% chance that the true population mean is below 49.01, and a 2.5% chance that it is above 50.99."
   ]
  },
  {
   "cell_type": "code",
   "execution_count": null,
   "id": "d104fd2c",
   "metadata": {},
   "outputs": [],
   "source": []
  },
  {
   "cell_type": "markdown",
   "id": "eca04040",
   "metadata": {},
   "source": [
    "### Q8. What is the margin of error in a confidence interval? How does sample size affect the margin of error? Provide an example of a scenario where a larger sample size would result in a smaller margin of error"
   ]
  },
  {
   "cell_type": "markdown",
   "id": "cb83ce13",
   "metadata": {},
   "source": [
    "The margin of error in a confidence interval is the amount of uncertainty we allow for in our estimate of the population parameter. It represents the maximum amount by which our sample estimate can differ from the true population value while still maintaining a specified level of confidence.\n",
    "\n",
    "The margin of error is typically expressed as a range of values above and below the sample estimate, and it depends on several factors including the sample size, level of confidence, and variability of the data.\n",
    "\n",
    "Sample size has a direct effect on the margin of error. As the sample size increases, the margin of error decreases, and vice versa. This is because a larger sample size provides more information about the population, and as a result, we can estimate the population parameter with greater precision.\n",
    "\n",
    "For example, suppose we want to estimate the proportion of people in a city who support a particular political candidate, and we conduct a survey of 100 randomly selected individuals. If the survey finds that 60% of the sample supports the candidate, we can calculate a 95% confidence interval for the true population proportion using the formula:\n",
    "\n",
    "95% confidence interval = sample proportion ± (1.96 x standard error)\n",
    "\n",
    "where the standard error is calculated as:\n",
    "\n",
    "standard error = sqrt((sample proportion x (1 - sample proportion)) / sample size)\n",
    "\n",
    "Assuming a sample size of 100, we have:\n",
    "\n",
    "sample proportion = 0.6\n",
    "sample size = 100\n",
    "\n",
    "standard error = sqrt((0.6 x 0.4) / 100) = 0.049\n",
    "\n",
    "95% confidence interval = 0.6 ± (1.96 x 0.049) = [0.504, 0.696]\n",
    "\n",
    "The margin of error in this case is (0.696 - 0.6) / 2 = 0.048 or 4.8%.\n",
    "\n",
    "Now suppose we increase the sample size to 1000 while keeping everything else the same. We have:\n",
    "\n",
    "sample proportion = 0.6\n",
    "sample size = 1000\n",
    "\n",
    "standard error = sqrt((0.6 x 0.4) / 1000) = 0.015\n",
    "\n",
    "95% confidence interval = 0.6 ± (1.96 x 0.015) = [0.571, 0.629]\n",
    "\n",
    "The margin of error in this case is (0.629 - 0.571) / 2 = 0.029 or 2.9%.\n",
    "\n",
    "As we can see from this example, increasing the sample size from 100 to 1000 results in a smaller margin of error, which means we can estimate the true population proportion with greater precision.\n",
    "\n",
    "\n",
    "\n"
   ]
  },
  {
   "cell_type": "code",
   "execution_count": null,
   "id": "1866370d",
   "metadata": {},
   "outputs": [],
   "source": []
  },
  {
   "cell_type": "markdown",
   "id": "cde155d7",
   "metadata": {},
   "source": [
    "### Q9. Calculate the z-score for a data point with a value of 75, a population mean of 70, and a population standard deviation of 5. Interpret the results."
   ]
  },
  {
   "cell_type": "markdown",
   "id": "a2cf44ab",
   "metadata": {},
   "source": [
    "The z-score measures the number of standard deviations that a data point is from the mean of the population. It is calculated using the formula:\n",
    "\n",
    "z = (x - μ) / σ\n",
    "\n",
    "where x is the value of the data point, μ is the population mean, and σ is the population standard deviation.\n",
    "\n",
    "In this case, we have:\n",
    "\n",
    "x = 75\n",
    "μ = 70\n",
    "σ = 5\n",
    "\n",
    "Plugging these values into the formula, we get:\n",
    "\n",
    "z = (75 - 70) / 5 = 1\n",
    "\n",
    "Therefore, the z-score for the data point with a value of 75 is 1.\n",
    "\n",
    "Interpreting the results, we can say that the data point is one standard deviation above the mean of the population. This means that the value of 75 is relatively high compared to the rest of the population, and it is not a common occurrence in the population. The z-score provides a standardized measure of the deviation from the mean and allows us to compare data points from different populations with different means and standard deviations.\n",
    "\n",
    "\n",
    "\n"
   ]
  },
  {
   "cell_type": "code",
   "execution_count": null,
   "id": "6afd5f84",
   "metadata": {},
   "outputs": [],
   "source": []
  },
  {
   "cell_type": "markdown",
   "id": "bcef3d6f",
   "metadata": {},
   "source": [
    "### Q10. In a study of the effectiveness of a new weight loss drug, a sample of 50 participants lost an average of 6 pounds with a standard deviation of 2.5 pounds. Conduct a hypothesis test to determine if the drug is significantly effective at a 95% confidence level using a t-test."
   ]
  },
  {
   "cell_type": "markdown",
   "id": "1a308676",
   "metadata": {},
   "source": [
    "__Step 1: State the null hypothesis and alternative hypothesis__.\n",
    "\n",
    "- Null hypothesis: The new weight loss drug has no significant effect on weight loss.\n",
    "- Alternative hypothesis: The new weight loss drug is significantly effective in reducing weight.\n",
    "\n",
    "__Step 2: Set the significance level (α) and determine the appropriate test statistic and distribution.__\n",
    "\n",
    "- In this case, the significance level is 0.05 (or 95% confidence level).\n",
    "- Since the sample size is less than 30, we will use a t-test and assume that the population standard deviation is unknown.\n",
    "\n",
    "__Step 3: Calculate the test statistic.__\n",
    "\n",
    "- We will calculate the t-value using the formula:\n",
    "t = (x̄ - μ) / (s / √n)\n",
    "where x̄ is the sample mean, μ is the hypothesized population mean, s is the sample standard deviation, and n is the sample size.\n",
    "- Plugging in the values we get: t = (6 - 0) / (2.5 / √50) = 13.42\n",
    "\n",
    "__Step 4: Determine the critical value and p-value.__\n",
    "\n",
    "- To determine the critical value, we need to find the degrees of freedom, which is (n-1) = (50-1) = 49, and then look up the value in a t-distribution table. For a 95% confidence level and 49 degrees of freedom, the critical value is 2.009.\n",
    "- To calculate the p-value, we will use a two-tailed test and look up the probability of obtaining a t-value greater than or equal to 13.42 (the absolute value of the calculated t-value) with 49 degrees of freedom. The p-value is less than 0.001.\n",
    "\n",
    "__Step 5: Make a decision and interpret the results.__\n",
    "\n",
    "Since the calculated t-value (13.42) is greater than the critical value (2.009), and the p-value is less than the significance level (0.05), we reject the null hypothesis.\n",
    "We can conclude that there is sufficient evidence to suggest that the new weight loss drug is significantly effective in reducing weight at a 95% confidence level."
   ]
  },
  {
   "cell_type": "code",
   "execution_count": null,
   "id": "54ef0c48",
   "metadata": {},
   "outputs": [],
   "source": []
  },
  {
   "cell_type": "markdown",
   "id": "566bc186",
   "metadata": {},
   "source": [
    "### Q11. In a survey of 500 people, 65% reported being satisfied with their current job. Calculate the 95% confidence interval for the true proportion of people who are satisfied with their job."
   ]
  },
  {
   "cell_type": "markdown",
   "id": "2a7c674e",
   "metadata": {},
   "source": [
    "To calculate the 95% confidence interval for the true proportion of people who are satisfied with their job, we can use the following formula:\n",
    "\n",
    "CI = p ± z*(√(p*(1-p)/n))\n",
    "\n",
    "Where:\n",
    "\n",
    "- CI: confidence interval\n",
    "- p: proportion of people who are satisfied with their job in the sample\n",
    "- z: the critical value from the standard normal distribution corresponding to the desired level of confidence (in this case, 1.96 for a 95% confidence interval)\n",
    "- n: the sample size\n",
    "\n",
    "Plugging in the values we get:\n",
    "\n",
    "CI = 0.65 ± 1.96*(√(0.65*(1-0.65)/500))\n",
    "\n",
    "CI = 0.65 ± 0.040\n",
    "\n",
    "CI = [0.61, 0.69]\n",
    "\n",
    "Interpretation: We can be 95% confident that the true proportion of people who are satisfied with their job is between 0.61 and 0.69."
   ]
  },
  {
   "cell_type": "code",
   "execution_count": null,
   "id": "5138f7a0",
   "metadata": {},
   "outputs": [],
   "source": []
  },
  {
   "cell_type": "markdown",
   "id": "fa8cb5b0",
   "metadata": {},
   "source": [
    "### Q12. A researcher is testing the effectiveness of two different teaching methods on student performance. Sample A has a mean score of 85 with a standard deviation of 6, while sample B has a mean score of 82 with a standard deviation of 5. Conduct a hypothesis test to determine if the two teaching methods have a significant difference in student performance using a t-test with a significance level of 0.01."
   ]
  },
  {
   "cell_type": "markdown",
   "id": "b6366b69",
   "metadata": {},
   "source": [
    "To test if there is a significant difference in student performance between the two teaching methods, we can use a two-sample t-test. The null hypothesis is that there is no difference between the two teaching methods, while the alternative hypothesis is that there is a significant difference.\n",
    "\n",
    "- Ho: μA = μB\n",
    "- Ha: μA ≠ μB\n",
    "\n",
    "Where:\n",
    "\n",
    "- Ho: null hypothesis\n",
    "- Ha: alternative hypothesis\n",
    "- μA: population mean score for sample A\n",
    "- μB: population mean score for sample B\n",
    "We can use a t-test with a significance level of 0.01, which corresponds to a critical value of ±2.576 for a two-tailed test with degrees of freedom of 10 (assuming equal variances).\n",
    "\n",
    "The formula for the two-sample t-test is:\n",
    "\n",
    "- t = (x̄A - x̄B) / (s_p * √(1/nA + 1/nB))\n",
    "\n",
    "Where:\n",
    "\n",
    "- t: t-test statistic\n",
    "- x̄A: sample mean score for sample A\n",
    "- x̄B: sample mean score for sample B\n",
    "- s_p: pooled standard deviation\n",
    "- nA: sample size for sample A\n",
    "- nB: sample size for sample B\n",
    "The pooled standard deviation can be calculated as:\n",
    "\n",
    "- s_p = √(((nA - 1)*s^2A + (nB - 1)*s^2B) / (nA + nB - 2))\n",
    "\n",
    "Plugging in the values, we get:\n",
    "\n",
    "- s_p = √(((96^2) + (95^2)) / (18)) = 5.46\n",
    "\n",
    "- t = (85 - 82) / (5.46 * √(1/9 + 1/9)) = 2.11\n",
    "\n",
    "The calculated t-value is greater than the critical value of ±2.576, so we reject the null hypothesis and conclude that there is a significant difference in student performance between the two teaching methods at a significance level of 0.01.\n",
    "\n",
    "Interpretation: The results suggest that the two teaching methods have different effects on student performance. The mean score for sample A (85) is significantly higher than the mean score for sample B (82)."
   ]
  },
  {
   "cell_type": "code",
   "execution_count": null,
   "id": "041d2682",
   "metadata": {},
   "outputs": [],
   "source": []
  },
  {
   "cell_type": "markdown",
   "id": "416cbec7",
   "metadata": {},
   "source": [
    "### Q13. A population has a mean of 60 and a standard deviation of 8. A sample of 50 observations has a mean of 65. Calculate the 90% confidence interval for the true population mean."
   ]
  },
  {
   "cell_type": "markdown",
   "id": "3a3b69bc",
   "metadata": {},
   "source": [
    "To calculate the 90% confidence interval for the true population mean, we can use the formula:\n",
    "\n",
    "CI = x̄ ± z*(σ/√n)\n",
    "\n",
    "where:\n",
    "\n",
    "CI: confidence interval\n",
    "- x̄: sample mean\n",
    "- z: z-score for the desired confidence level (90% in this case)\n",
    "- σ: population standard deviation\n",
    "- n: sample size\n",
    "Substituting the values given in the question, we get:\n",
    "\n",
    "CI = 65 ± 1.645*(8/√50)\n",
    "\n",
    "Solving this equation, we get:\n",
    "\n",
    "CI = (62.69, 67.31)\n",
    "\n",
    "Therefore, the 90% confidence interval for the true population mean is (62.69, 67.31).\n",
    "\n",
    "Interpretation: We can be 90% confident that the true population mean falls within the interval of (62.69, 67.31)."
   ]
  },
  {
   "cell_type": "code",
   "execution_count": null,
   "id": "103eb0b6",
   "metadata": {},
   "outputs": [],
   "source": []
  },
  {
   "cell_type": "markdown",
   "id": "8a280a2b",
   "metadata": {},
   "source": [
    "### Q14. In a study of the effects of caffeine on reaction time, a sample of 30 participants had an average reaction time of 0.25 seconds with a standard deviation of 0.05 seconds. Conduct a hypothesis test to determine if the caffeine has a significant effect on reaction time at a 90% confidence level using a t-test."
   ]
  },
  {
   "cell_type": "markdown",
   "id": "ed3eec15",
   "metadata": {},
   "source": [
    "o conduct a hypothesis test, we need to establish the null and alternative hypotheses:\n",
    "\n",
    "__Null Hypothesis__: The average reaction time for the population with caffeine is equal to the average reaction time for the population without caffeine.<br>\n",
    "__Alternative Hypothesis__: The average reaction time for the population with caffeine is different than the average reaction time for the population without caffeine.\n",
    "\n",
    "We will use a two-tailed t-test for independent samples to compare the means of the two populations. We will use a significance level of 0.1 (90% confidence level).\n",
    "\n",
    "First, we need to calculate the t-statistic using the formula:\n",
    "\n",
    "t = (x1 - x2) / (s / √(n))\n",
    "\n",
    "where:\n",
    "- x1 = sample mean (0.25 seconds)\n",
    "- x2 = hypothesized population mean (we assume it is equal to 0.25 seconds without caffeine)\n",
    "- s = sample standard deviation (0.05 seconds)\n",
    "- n = sample size (30)\n",
    "\n",
    "Plugging in the values, we get:\n",
    "\n",
    "- t = (0.25 - 0.25) / (0.05 / √(30))\n",
    "- t = 0 / 0.009144\n",
    "- t = 0\n",
    "\n",
    "The t-statistic is 0, which means that the difference between the sample mean and hypothesized population mean is not significant.\n",
    "\n",
    "Next, we need to find the critical values for the t-distribution with 29 degrees of freedom (df = n - 1) at a significance level of 0.1. We can use a t-table or a statistical software to find the critical values.\n",
    "\n",
    "Using a t-table, we find that the critical values are -1.699 and 1.699.\n",
    "\n",
    "Since our calculated t-statistic of 0 falls within the range of the critical values, we fail to reject the null hypothesis. We conclude that there is no significant difference in reaction time between the population with caffeine and the population without caffeine at a 90% confidence level."
   ]
  },
  {
   "cell_type": "code",
   "execution_count": null,
   "id": "58b0da9f",
   "metadata": {},
   "outputs": [],
   "source": []
  }
 ],
 "metadata": {
  "kernelspec": {
   "display_name": "Python 3 (ipykernel)",
   "language": "python",
   "name": "python3"
  },
  "language_info": {
   "codemirror_mode": {
    "name": "ipython",
    "version": 3
   },
   "file_extension": ".py",
   "mimetype": "text/x-python",
   "name": "python",
   "nbconvert_exporter": "python",
   "pygments_lexer": "ipython3",
   "version": "3.9.7"
  }
 },
 "nbformat": 4,
 "nbformat_minor": 5
}
